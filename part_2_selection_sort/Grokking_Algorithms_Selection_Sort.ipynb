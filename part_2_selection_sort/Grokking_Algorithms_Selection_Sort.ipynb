{
  "nbformat": 4,
  "nbformat_minor": 0,
  "metadata": {
    "colab": {
      "name": "Grokking_Algorithms_Selection_Sort.ipynb",
      "provenance": []
    },
    "kernelspec": {
      "name": "python3",
      "display_name": "Python 3"
    },
    "language_info": {
      "name": "python"
    }
  },
  "cells": [
    {
      "cell_type": "code",
      "source": [
        "import random\n",
        "import matplotlib.pyplot as plt"
      ],
      "metadata": {
        "id": "zsbmJ99JabZ-"
      },
      "execution_count": 16,
      "outputs": []
    },
    {
      "cell_type": "code",
      "execution_count": 21,
      "metadata": {
        "id": "WmdCGrHKVoBz"
      },
      "outputs": [],
      "source": [
        "# this functions searches the smallest value in the list and returns its index\n",
        "# approximately it requires about n * 1/2 operations\n",
        "\n",
        "def findSmaller(arr):\n",
        "  smallest = arr[0]\n",
        "  smallest_index = 0\n",
        "  for i in range(1, len(arr)):\n",
        "    if arr[i] < smallest:\n",
        "      smallest = arr[i]\n",
        "      smallest_index = i\n",
        "  return smallest_index"
      ]
    },
    {
      "cell_type": "code",
      "source": [
        "# this function deletes a value from the original list and adds it to another list \n",
        "# it requires n operations\n",
        "\n",
        "def selectionSort(arr):\n",
        "  newArr = []\n",
        "  for i in range(len(arr)):\n",
        "    smallest = findSmaller(arr)\n",
        "    newArr.append(arr.pop(smallest))\n",
        "  return newArr"
      ],
      "metadata": {
        "id": "I7I3mfOxVtup"
      },
      "execution_count": 3,
      "outputs": []
    },
    {
      "cell_type": "markdown",
      "source": [
        "It means that algorithm requires about $(n \\times 1/2 \\times n)$ operations. \"Big O\" doesn't take constants into account, so the complexity of this sorting algorithm (Big O) equals to $(n \\times n)$ or $n^2$:\n",
        "\n",
        "$$O(n^2)$$"
      ],
      "metadata": {
        "id": "tfBt3sqhC_wT"
      }
    },
    {
      "cell_type": "code",
      "source": [
        "initial_list = [random.randint(1, 1000) for i in range(15)]\n",
        "initial_list"
      ],
      "metadata": {
        "colab": {
          "base_uri": "https://localhost:8080/"
        },
        "id": "GIll9Xc8akL5",
        "outputId": "267f1ef8-add2-483a-e2ba-531f349bdb48"
      },
      "execution_count": 4,
      "outputs": [
        {
          "output_type": "execute_result",
          "data": {
            "text/plain": [
              "[690, 25, 782, 937, 941, 255, 825, 505, 337, 206, 479, 823, 498, 764, 791]"
            ]
          },
          "metadata": {},
          "execution_count": 4
        }
      ]
    },
    {
      "cell_type": "code",
      "source": [
        "sorted_list = selectionSort(initial_list)\n",
        "sorted_list"
      ],
      "metadata": {
        "colab": {
          "base_uri": "https://localhost:8080/"
        },
        "id": "wPSzPynMa90u",
        "outputId": "e31e1d15-10f2-47d8-b1c9-2c18e0a8113e"
      },
      "execution_count": 5,
      "outputs": [
        {
          "output_type": "execute_result",
          "data": {
            "text/plain": [
              "[25, 206, 255, 337, 479, 498, 505, 690, 764, 782, 791, 823, 825, 937, 941]"
            ]
          },
          "metadata": {},
          "execution_count": 5
        }
      ]
    },
    {
      "cell_type": "code",
      "source": [
        "# generate list to illustrate the computational complexity curve\n",
        "\n",
        "O_n2 = [x**2 for x in range(1, 10000)]"
      ],
      "metadata": {
        "id": "gvvJc4BUbzY0"
      },
      "execution_count": 19,
      "outputs": []
    },
    {
      "cell_type": "code",
      "source": [
        "plt.figure(figsize=[16,8])\n",
        "plt.plot(O_n2)\n",
        "plt.xlabel('List lenght',fontsize=12)\n",
        "plt.ylabel('Computational complexity',fontsize=12)\n",
        "plt.title('0 (n**2) Computational Complexity')\n",
        "plt.show()"
      ],
      "metadata": {
        "colab": {
          "base_uri": "https://localhost:8080/",
          "height": 516
        },
        "id": "w7Hzna4MA3HM",
        "outputId": "68d6738b-dcb6-4fb6-969f-b31a393982d6"
      },
      "execution_count": 20,
      "outputs": [
        {
          "output_type": "display_data",
          "data": {
            "text/plain": [
              "<Figure size 1152x576 with 1 Axes>"
            ],
            "image/png": "[encoded data removed]"
          },
          "metadata": {
            "needs_background": "light"
          }
        }
      ]
    },
    {
      "cell_type": "code",
      "source": [
        ""
      ],
      "metadata": {
        "id": "XH9J2r1uBVAL"
      },
      "execution_count": null,
      "outputs": []
    }
  ]
}