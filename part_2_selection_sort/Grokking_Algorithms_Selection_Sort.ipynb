{
 "cells": [
  {
   "cell_type": "markdown",
   "metadata": {},
   "source": [
    "# Selection Sort"
   ]
  },
  {
   "cell_type": "code",
   "execution_count": 3,
   "metadata": {
    "id": "zsbmJ99JabZ-"
   },
   "outputs": [],
   "source": [
    "import random\n",
    "import matplotlib.pyplot as plt\n",
    "\n",
    "%load_ext lab_black"
   ]
  },
  {
   "cell_type": "code",
   "execution_count": 4,
   "metadata": {
    "id": "WmdCGrHKVoBz"
   },
   "outputs": [],
   "source": [
    "# this functions searches the smallest value in the list and returns its index\n",
    "# approximately it requires about n * 1/2 operations\n",
    "\n",
    "\n",
    "def findSmaller(arr):\n",
    "    smallest = arr[0]\n",
    "    smallest_index = 0\n",
    "    for i in range(1, len(arr)):\n",
    "        if arr[i] < smallest:\n",
    "            smallest = arr[i]\n",
    "            smallest_index = i\n",
    "    return smallest_index"
   ]
  },
  {
   "cell_type": "code",
   "execution_count": 5,
   "metadata": {
    "id": "I7I3mfOxVtup"
   },
   "outputs": [],
   "source": [
    "# this function deletes a value from the original list and adds it to another list\n",
    "# it requires n operations\n",
    "\n",
    "\n",
    "def selectionSort(arr):\n",
    "    newArr = []\n",
    "    for i in range(len(arr)):\n",
    "        smallest = findSmaller(arr)\n",
    "        newArr.append(arr.pop(smallest))\n",
    "    return newArr"
   ]
  },
  {
   "cell_type": "markdown",
   "metadata": {
    "id": "tfBt3sqhC_wT"
   },
   "source": [
    "It means that algorithm requires about $(n \\times 1/2 \\times n)$ operations. \"Big O\" doesn't take constants into account, so the complexity of this sorting algorithm (Big O) equals to $(n \\times n)$ or $n^2$:\n",
    "\n",
    "$$O(n^2)$$"
   ]
  },
  {
   "cell_type": "code",
   "execution_count": 6,
   "metadata": {
    "colab": {
     "base_uri": "https://localhost:8080/"
    },
    "id": "GIll9Xc8akL5",
    "outputId": "267f1ef8-add2-483a-e2ba-531f349bdb48"
   },
   "outputs": [
    {
     "data": {
      "text/plain": [
       "[477, 794, 759, 448, 449, 69, 766, 530, 692, 753, 140, 609, 985, 59, 714]"
      ]
     },
     "execution_count": 6,
     "metadata": {},
     "output_type": "execute_result"
    }
   ],
   "source": [
    "initial_list = [random.randint(1, 1000) for i in range(15)]\n",
    "initial_list"
   ]
  },
  {
   "cell_type": "code",
   "execution_count": 7,
   "metadata": {
    "colab": {
     "base_uri": "https://localhost:8080/"
    },
    "id": "wPSzPynMa90u",
    "outputId": "e31e1d15-10f2-47d8-b1c9-2c18e0a8113e"
   },
   "outputs": [
    {
     "data": {
      "text/plain": [
       "[59, 69, 140, 448, 449, 477, 530, 609, 692, 714, 753, 759, 766, 794, 985]"
      ]
     },
     "execution_count": 7,
     "metadata": {},
     "output_type": "execute_result"
    }
   ],
   "source": [
    "sorted_list = selectionSort(initial_list)\n",
    "sorted_list"
   ]
  },
  {
   "cell_type": "code",
   "execution_count": 8,
   "metadata": {
    "id": "gvvJc4BUbzY0"
   },
   "outputs": [],
   "source": [
    "# generate list to illustrate the computational complexity curve\n",
    "\n",
    "O_n2 = [x ** 2 for x in range(1, 10000)]"
   ]
  },
  {
   "cell_type": "code",
   "execution_count": 9,
   "metadata": {
    "colab": {
     "base_uri": "https://localhost:8080/",
     "height": 516
    },
    "id": "w7Hzna4MA3HM",
    "outputId": "68d6738b-dcb6-4fb6-969f-b31a393982d6"
   },
   "outputs": [
    {
     "data": {
      "image/png": "[encoded data removed]",
      "text/plain": [
       "<Figure size 1152x576 with 1 Axes>"
      ]
     },
     "metadata": {
      "needs_background": "light"
     },
     "output_type": "display_data"
    }
   ],
   "source": [
    "plt.figure(figsize=[16, 8])\n",
    "plt.plot(O_n2)\n",
    "plt.xlabel(\"List lenght\", fontsize=12)\n",
    "plt.ylabel(\"Computational complexity\", fontsize=12)\n",
    "plt.title(\"0 (n**2) Computational Complexity\")\n",
    "plt.show()"
   ]
  },
  {
   "cell_type": "markdown",
   "metadata": {
    "id": "ABySpJw7KktF"
   },
   "source": [
    "# Recursion"
   ]
  },
  {
   "cell_type": "code",
   "execution_count": 10,
   "metadata": {
    "colab": {
     "base_uri": "https://localhost:8080/"
    },
    "id": "ynb1PqJWKs6f",
    "outputId": "8579d9b8-9f8e-4ae2-e2e3-3b3461e631d8"
   },
   "outputs": [
    {
     "data": {
      "text/plain": [
       "5040"
      ]
     },
     "execution_count": 10,
     "metadata": {},
     "output_type": "execute_result"
    }
   ],
   "source": [
    "# this function calculates factorial using recursive call of itself\n",
    "\n",
    "\n",
    "def fact(x):\n",
    "    if x == 1:\n",
    "        return 1\n",
    "    else:\n",
    "        return x * fact(x - 1)\n",
    "\n",
    "\n",
    "fact(7)"
   ]
  },
  {
   "cell_type": "markdown",
   "metadata": {
    "id": "wMCiQP0iLCaa"
   },
   "source": [
    "Every nested call of the function itself creates a copy of variables this functions works with. It is call **a call stack**. It looks like this:\n",
    "\n",
    "<div>\n",
    "<img src=\"recursion_fact.png\" width=\"250\" height=\"400\"/>\n",
    "</div>\n",
    "\n",
    "Used [this](https://pythontutor.com/visualize.html#mode=edit) resource for visualization."
   ]
  }
 ],
 "metadata": {
  "colab": {
   "name": "Grokking_Algorithms_Selection_Sort.ipynb",
   "provenance": []
  },
  "kernelspec": {
   "display_name": "Python 3 (ipykernel)",
   "language": "python",
   "name": "python3"
  },
  "language_info": {
   "codemirror_mode": {
    "name": "ipython",
    "version": 3
   },
   "file_extension": ".py",
   "mimetype": "text/x-python",
   "name": "python",
   "nbconvert_exporter": "python",
   "pygments_lexer": "ipython3",
   "version": "3.9.7"
  }
 },
 "nbformat": 4,
 "nbformat_minor": 4
}
